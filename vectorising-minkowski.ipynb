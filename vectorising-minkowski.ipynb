{
 "cells": [
  {
   "cell_type": "markdown",
   "source": [
    "* Show picture of Manhattan distance, like walking a city block\n",
    "* Show picture of Euclidean distance, talking the \"direct path\"\n",
    "* Explain formula for Minkowski distance and break it down\n",
    "* Show how this works for two points in 2D:\n",
    "    * For Manhattan distance, we're travelling along the difference on the x-axis and then the distance on the y-axis\n",
    "    * For Euclidean distance, imagine we treat those two x- and y-differences as sides of a triangle, then calculate the hypotenuse.\n",
    "\n",
    "While, again, we can only really comfortably visualise this in 2- and 3D, the logic extends to n-dimensions as with vector spaces.\n",
    "\n",
    "We now know what we need to calculate the Minowski difference, so let's create a simple implementation using loops.\n",
    "\n",
    "Calculation of Minkowski distance:\n",
    "\n",
    "Explain what this is in 2-d space:\n",
    "* Manhattan\n",
    "* Euclidean\n",
    "\n",
    "Then show calculation of this using loops\n",
    "\n",
    "Then work out which linear algebra functions you use to create the optimisation and explain them\n",
    "Then show LA optimisation + timing for various n-dimensions and datasets\n",
    "Comparing timing to sklearn implementation"
   ],
   "metadata": {
    "collapsed": false,
    "pycharm": {
     "name": "#%% md\n"
    }
   }
  },
  {
   "cell_type": "markdown",
   "source": [
    "# Just enough linear algebra to optimise the Minkowski distance\n",
    "\n",
    "In the last blog post, we discussed how to calculate the Manhattan and Euclidean distances from first principles. However, in that post, we did a very manual implementation for a single pair of vectors, which would not generalise well to more than one pair and would become cumbersome for more than a few dimensions. As such, in this blog post we will discuss how to implement the Minkowski distance calculation for vectors of any number of dimensions and for any numbers of pairs. As doing pairwise calculations can become very computationally expensive, we will also discuss how to optimise our distance calculations using some further knowledge from linear algebra.\n",
    "\n",
    "## Our inital attempt\n",
    "Let's start by revisiting our manual implementation of the\n",
    "\n",
    "\n",
    "\n",
    "##\n",
    "* Vector subtraction\n",
    "    * Broadcasting vector subtraction (to do this efficiently)\n",
    "* Squaring a vector\n",
    "*\n",
    "\n"
   ],
   "metadata": {
    "collapsed": false,
    "pycharm": {
     "name": "#%% md\n"
    }
   }
  },
  {
   "cell_type": "code",
   "execution_count": null,
   "outputs": [],
   "source": [],
   "metadata": {
    "collapsed": false,
    "pycharm": {
     "name": "#%%\n"
    }
   }
  }
 ],
 "metadata": {
  "kernelspec": {
   "display_name": "Python 3",
   "language": "python",
   "name": "python3"
  },
  "language_info": {
   "codemirror_mode": {
    "name": "ipython",
    "version": 2
   },
   "file_extension": ".py",
   "mimetype": "text/x-python",
   "name": "python",
   "nbconvert_exporter": "python",
   "pygments_lexer": "ipython2",
   "version": "2.7.6"
  }
 },
 "nbformat": 4,
 "nbformat_minor": 0
}