{
 "cells": [
  {
   "cell_type": "markdown",
   "metadata": {
    "pycharm": {
     "name": "#%% md\n"
    }
   },
   "source": [
    "# Optimising the Minkowski distance, part 2: broadcasting\n",
    "\n",
    "In the last blog post, we managed to shave a bit of time off our calculation of the Minkowski distance by using vector subtraction. Instead of calculating the difference between each pair of vectors elementwise using a loop, we were able to take advantage of NumPy's vectorised implementation to take these differences in one pass.\n",
    "\n",
    "However, we only knocked a couple of minutes off the calculation of the Minkowski distance on our second sample, which contained only three features but more than 13,000 observations. The main culprit of these long processing times is a remaining nested for loop which calculates the pairwise Minkowski distance between all observations in our samples. As such, we'll be looking at how to use a method called [broadcasting](https://numpy.org/doc/stable/user/basics.broadcasting.html) in NumPy to get rid of this and save ourselves some more time. Broadcasting is very powerful, but it's not the most intuitive concept to understand. As such, we'll being taking it slowly and explaining how we can apply it to our function step-by-step in this blog post."
   ]
  },
  {
   "cell_type": "markdown",
   "metadata": {
    "pycharm": {
     "name": "#%% md\n"
    }
   },
   "source": [
    "## Broadcasting\n",
    "\n",
    "To understand how broadcasting works, let's start with a small example. We'll go back to the three example vectors we've been working with, $X$, $Y$ and $Z$."
   ]
  },
  {
   "cell_type": "code",
   "execution_count": 1,
   "metadata": {
    "pycharm": {
     "name": "#%%\n"
    }
   },
   "outputs": [],
   "source": [
    "import numpy as np\n",
    "\n",
    "X = np.array([5, 7, 3, 9])\n",
    "Y = np.array([1, 6, 2, 4])\n",
    "Z = np.array([8, 8, 3, 1])"
   ]
  },
  {
   "cell_type": "markdown",
   "metadata": {
    "pycharm": {
     "name": "#%% md\n"
    }
   },
   "source": [
    "In order to calculate the pairwise distance between each of these vectors, we'll first combine all of them into a matrix with 3 rows and 4 columns. You can have a look at [my earlier blog post](https://t-redactyl.io/blog/2020/06/working-with-matrices-addition-subtraction-and-multiplication.html) for a fuller explanation of what a matrix is, but essentially it is just a table whose rows or columns are made up of a collection of vectors with the same number of elements. You can see the matrix we made below where $X$, $Y$ and $Z$ make up the rows of the matrix."
   ]
  },
  {
   "cell_type": "code",
   "execution_count": 28,
   "metadata": {
    "pycharm": {
     "name": "#%%\n"
    }
   },
   "outputs": [
    {
     "name": "stdout",
     "output_type": "stream",
     "text": [
      "[[5 7 3 9]\n",
      " [1 6 2 4]\n",
      " [8 8 3 1]]\n"
     ]
    }
   ],
   "source": [
    "print(np.array([X, Y, Z]))"
   ]
  },
  {
   "cell_type": "markdown",
   "metadata": {
    "pycharm": {
     "name": "#%% md\n"
    }
   },
   "source": [
    "In order to get the difference between each of the vectors and the $X$ vector, we can create a second 3 x 4 matrix which is just composed of the $X$ vector repeated three times:"
   ]
  },
  {
   "cell_type": "code",
   "execution_count": 29,
   "metadata": {
    "pycharm": {
     "name": "#%%\n"
    }
   },
   "outputs": [
    {
     "name": "stdout",
     "output_type": "stream",
     "text": [
      "[[5 7 3 9]\n",
      " [5 7 3 9]\n",
      " [5 7 3 9]]\n"
     ]
    }
   ],
   "source": [
    "print(np.array([X, X, X]))"
   ]
  },
  {
   "cell_type": "markdown",
   "metadata": {
    "pycharm": {
     "name": "#%% md\n"
    }
   },
   "source": [
    "We then subtract this matrix with the repeated $X$ vector from the matrix containing all three vectors:"
   ]
  },
  {
   "cell_type": "code",
   "execution_count": 30,
   "metadata": {
    "pycharm": {
     "name": "#%%\n"
    }
   },
   "outputs": [
    {
     "name": "stdout",
     "output_type": "stream",
     "text": [
      "[[ 0  0  0  0]\n",
      " [-4 -1 -1 -5]\n",
      " [ 3  1  0 -8]]\n"
     ]
    }
   ],
   "source": [
    "print(np.array([X, Y, Z]) - np.array([X, X, X]))"
   ]
  },
  {
   "cell_type": "markdown",
   "metadata": {
    "pycharm": {
     "name": "#%% md\n"
    }
   },
   "source": [
    "We now have the pairwise differences between the elements of vector $X$ and all other vectors, including itself. The reason this works is that the rules of vector subtraction also apply to matrices (see [this blog post](https://t-redactyl.io/blog/2020/06/working-with-matrices-addition-subtraction-and-multiplication.html) for an overview of this). Just as two vectors with the same number of elements can be subtracted from each other elementwise, we can also subtract two matrices of the same size from each other elementwise. In this case it's possible as both of our matrices are 3 x 4. This looks like below:\n",
    "\n",
    "![](figures/broadcasting_1.png)\n",
    "\n",
    "So far, so good. However, we still have one issue: if we want to also subtract vectors $Y$ and $Z$, we're still stuck with a for loop, right? Well, there is a way to avoid this. At the moment, we are using 2-dimensional NumPy arrays, where the first dimension represents our number of vectors and the second dimension represents the number of elements in each vector."
   ],
   "outputs": []
  },
  {
   "cell_type": "code",
   "execution_count": 5,
   "outputs": [
    {
     "data": {
      "text/plain": "(3, 4)"
     },
     "execution_count": 5,
     "metadata": {},
     "output_type": "execute_result"
    }
   ],
   "source": [
    "np.array([X, Y, Z]).shape"
   ],
   "metadata": {
    "collapsed": false,
    "pycharm": {
     "name": "#%%\n"
    }
   }
  },
  {
   "cell_type": "markdown",
   "source": [
    "We can switch instead to using 3-dimensional NumPy arrays, where the first two dimensions represent the number of vectors, and the final dimension represents the number of elements in each vector. Let's have a look at how this would work for the first array in our subtraction:\n",
    "\n",
    "![](figures/without_broadcasting_1.png)\n",
    "\n",
    "In the second step above, we've reshaped the 2-dimensional array containing $X$, $Y$ and $Z$ into a 3-dimensional array with the dimensions $(1, 3, 4)$. This indicates we have three vectors (and only one copy of each of these) and each vector contains 4 elements."
   ],
   "metadata": {
    "collapsed": false,
    "pycharm": {
     "name": "#%% md\n"
    }
   },
   "outputs": []
  },
  {
   "cell_type": "code",
   "execution_count": 11,
   "outputs": [
    {
     "data": {
      "text/plain": "(1, 3, 4)"
     },
     "execution_count": 11,
     "metadata": {},
     "output_type": "execute_result"
    }
   ],
   "source": [
    "np.array([[X, Y, Z]]).shape"
   ],
   "metadata": {
    "collapsed": false,
    "pycharm": {
     "name": "#%%\n"
    }
   }
  },
  {
   "cell_type": "markdown",
   "source": [
    "In the final step, we've just duplicated our reshaped matrix 3 times. As you can see, the dimensions of this array are now $(3, 3, 4)$, with the first dimension indicating that we have three copies of our original matrix."
   ],
   "metadata": {
    "collapsed": false,
    "pycharm": {
     "name": "#%% md\n"
    }
   },
   "outputs": []
  },
  {
   "cell_type": "code",
   "execution_count": 12,
   "outputs": [
    {
     "data": {
      "text/plain": "(3, 3, 4)"
     },
     "execution_count": 12,
     "metadata": {},
     "output_type": "execute_result"
    }
   ],
   "source": [
    "np.array([[X, Y, Z], [X, Y, Z], [X, Y, Z]]).shape"
   ],
   "metadata": {
    "collapsed": false,
    "pycharm": {
     "name": "#%%\n"
    }
   }
  },
  {
   "cell_type": "markdown",
   "source": [
    "Now we need to create a corresponding array which will generate pairwise combinations of every vector when we do our subtraction. If you'll recall, when we were working with the 2-dimensional arrays, we simply created a matrix which duplicated the vector $X$ three times. We can do something similar here: we create 2-dimensional arrays which duplicate the $Y$ and $Z$ vectors three times. We can then reshape these matrices so that they are, again, of dimension $(1, 3, 4)$, and \"stack\" them within the same three-dimensional array to get an array with dimensions $(3, 3, 4)$. Let's see how this looks below:\n",
    "\n",
    "![](figures/without_broadcasting_2.png)\n",
    "\n",
    "Applying this in NumPy, you can see we do indeed get the correct shape:"
   ],
   "metadata": {
    "collapsed": false,
    "pycharm": {
     "name": "#%% md\n"
    }
   }
  },
  {
   "cell_type": "code",
   "execution_count": 13,
   "outputs": [
    {
     "data": {
      "text/plain": "(3, 3, 4)"
     },
     "execution_count": 13,
     "metadata": {},
     "output_type": "execute_result"
    }
   ],
   "source": [
    "np.array([[X, X, X], [Y, Y, Y], [Z, Z, Z]]).shape"
   ],
   "metadata": {
    "collapsed": false,
    "pycharm": {
     "name": "#%%\n"
    }
   }
  },
  {
   "cell_type": "markdown",
   "source": [
    "Finally, if we subtract our new three-dimensional arrays from each other, we'll get the difference scores below. I think this makes it pretty clear that we've successfully created the correct combinations of pairs:\n",
    "\n",
    "![](figures/broadcasting_3.png)\n",
    "\n",
    "Let's check that it worked:"
   ],
   "metadata": {
    "collapsed": false,
    "pycharm": {
     "name": "#%% md\n"
    }
   },
   "outputs": []
  },
  {
   "cell_type": "code",
   "execution_count": 14,
   "outputs": [
    {
     "data": {
      "text/plain": "array([[[ 0,  0,  0,  0],\n        [-4, -1, -1, -5],\n        [ 3,  1,  0, -8]],\n\n       [[ 4,  1,  1,  5],\n        [ 0,  0,  0,  0],\n        [ 7,  2,  1, -3]],\n\n       [[-3, -1,  0,  8],\n        [-7, -2, -1,  3],\n        [ 0,  0,  0,  0]]])"
     },
     "execution_count": 14,
     "metadata": {},
     "output_type": "execute_result"
    }
   ],
   "source": [
    "np.array([[X, Y, Z], [X, Y, Z], [X, Y, Z]]) - np.array([[X, X, X], [Y, Y, Y], [Z, Z, Z]])"
   ],
   "metadata": {
    "collapsed": false,
    "pycharm": {
     "name": "#%%\n"
    }
   }
  },
  {
   "cell_type": "markdown",
   "source": [
    "Great! We're getting the numbers we expected.\n",
    "\n",
    "However, it might have occurred to you that replicating each vector is not the most memory-friendly way of calculating the difference scores, especially once we start working with our full `beans` dataset or something even bigger. This is where broadcasting comes in. Essentially what broadcasting does is that it takes these replications that we're doing explictly and implementing them in memory-efficient ways under the hood. Let's have a closer look at how it works.\n",
    "\n",
    "In order to get the correct pairwise subtractions above, we created a three-dimensional array where our vectors were replicated across the columns in one array and across the rows in the second one. What we want to do with broadcasting is signal to NumPy that we want it to do the same thing. We do this by reshaping our 2-dimensional array into two 3-dimensional arrays, each \"orientated\" in different directions. In the first, we have the vectors sitting in the second dimension of the array, so that we end up with a $(1, 3, 4)$ array. In the second, we have the vectors sitting in the first dimension of the array, so that we end up with a $(3, 1, 4)$ array. Numpy will see the dimensions of size 1 that each array has and realise it needs to \"stretch\" or duplicate the data in order to make the arrays a compatible size for subtraction. Once it does this, the final output will be our $(3, 3, 4)$ matrix containing the difference scores.\n",
    "\n",
    "![](figures/with_broadcasting.png)\n",
    "\n",
    "Let's have a look at this with our example vectors. We'll first create our $(1, 3, 4)$ reshape of the 2-dimensional array:"
   ],
   "metadata": {
    "collapsed": false,
    "pycharm": {
     "name": "#%% md\n"
    }
   }
  },
  {
   "cell_type": "code",
   "execution_count": 18,
   "outputs": [
    {
     "data": {
      "text/plain": "(1, 3, 4)"
     },
     "execution_count": 18,
     "metadata": {},
     "output_type": "execute_result"
    }
   ],
   "source": [
    "np.array([[X, Y, Z]]).shape"
   ],
   "metadata": {
    "collapsed": false,
    "pycharm": {
     "name": "#%%\n"
    }
   }
  },
  {
   "cell_type": "markdown",
   "source": [
    "We'll then reshape it to a $(3, 1, 4)$ array:"
   ],
   "metadata": {
    "collapsed": false,
    "pycharm": {
     "name": "#%% md\n"
    }
   }
  },
  {
   "cell_type": "code",
   "execution_count": 19,
   "outputs": [
    {
     "data": {
      "text/plain": "(3, 1, 4)"
     },
     "execution_count": 19,
     "metadata": {},
     "output_type": "execute_result"
    }
   ],
   "source": [
    "np.array([[X], [Y], [Z]]).shape"
   ],
   "metadata": {
    "collapsed": false,
    "pycharm": {
     "name": "#%%\n"
    }
   }
  },
  {
   "cell_type": "markdown",
   "source": [
    "Finally, we're ready to do our subtraction:"
   ],
   "metadata": {
    "collapsed": false,
    "pycharm": {
     "name": "#%% md\n"
    }
   }
  },
  {
   "cell_type": "code",
   "execution_count": 21,
   "outputs": [
    {
     "data": {
      "text/plain": "array([[[ 0,  0,  0,  0],\n        [-4, -1, -1, -5],\n        [ 3,  1,  0, -8]],\n\n       [[ 4,  1,  1,  5],\n        [ 0,  0,  0,  0],\n        [ 7,  2,  1, -3]],\n\n       [[-3, -1,  0,  8],\n        [-7, -2, -1,  3],\n        [ 0,  0,  0,  0]]])"
     },
     "execution_count": 21,
     "metadata": {},
     "output_type": "execute_result"
    }
   ],
   "source": [
    "np.array([[X, Y, Z]]) - np.array([[X], [Y], [Z]])"
   ],
   "metadata": {
    "collapsed": false,
    "pycharm": {
     "name": "#%%\n"
    }
   }
  },
  {
   "cell_type": "markdown",
   "source": [
    "And you can see we get the same results as when explicitly replicating the vectors! There is a slightly nicer notation for reshaping our arrays which I will use going forward. We can take advantage of the fact that when we pass `None` to slicing operations in NumPy, NumPy will automatically assign a dimension of 1 (as there is no data in that dimension)."
   ],
   "metadata": {
    "collapsed": false,
    "pycharm": {
     "name": "#%% md\n"
    }
   }
  },
  {
   "cell_type": "code",
   "execution_count": 25,
   "outputs": [
    {
     "data": {
      "text/plain": "(1, 3, 4)"
     },
     "execution_count": 25,
     "metadata": {},
     "output_type": "execute_result"
    }
   ],
   "source": [
    "np.array([X, Y, Z])[None, :, :].shape"
   ],
   "metadata": {
    "collapsed": false,
    "pycharm": {
     "name": "#%%\n"
    }
   }
  },
  {
   "cell_type": "code",
   "execution_count": 26,
   "outputs": [
    {
     "data": {
      "text/plain": "(3, 1, 4)"
     },
     "execution_count": 26,
     "metadata": {},
     "output_type": "execute_result"
    }
   ],
   "source": [
    "np.array([X, Y, Z])[:, None, :].shape"
   ],
   "metadata": {
    "collapsed": false,
    "pycharm": {
     "name": "#%%\n"
    }
   }
  },
  {
   "cell_type": "code",
   "execution_count": 27,
   "outputs": [
    {
     "data": {
      "text/plain": "array([[[ 0,  0,  0,  0],\n        [-4, -1, -1, -5],\n        [ 3,  1,  0, -8]],\n\n       [[ 4,  1,  1,  5],\n        [ 0,  0,  0,  0],\n        [ 7,  2,  1, -3]],\n\n       [[-3, -1,  0,  8],\n        [-7, -2, -1,  3],\n        [ 0,  0,  0,  0]]])"
     },
     "execution_count": 27,
     "metadata": {},
     "output_type": "execute_result"
    }
   ],
   "source": [
    "np.array([X, Y, Z])[None, :, :] - np.array([X, Y, Z])[:, None, :]"
   ],
   "metadata": {
    "collapsed": false,
    "pycharm": {
     "name": "#%%\n"
    }
   }
  },
  {
   "cell_type": "markdown",
   "source": [
    "You can see it gets use the exact same result as when using the bracketing notation, and is much easier to read (especially for larger arrays).\n",
    "\n",
    "Now that we understand broadcasting, we can overhaul our Minkowski distance functions to use it, rather than that inefficient nested forloop. You can see that instead of calculating the difference between one pair of vectors, the formula now takes in two matrices (such as the bean dataset) and calculates the pairwise difference between all rows."
   ],
   "metadata": {
    "collapsed": false,
    "pycharm": {
     "name": "#%% md\n"
    }
   }
  },
  {
   "cell_type": "code",
   "execution_count": 14,
   "metadata": {
    "pycharm": {
     "name": "#%%\n"
    }
   },
   "outputs": [],
   "source": [
    "def calculate_minkowski_distance_vectorised(array1: np.ndarray,\n",
    "                                            array2: np.ndarray,\n",
    "                                            p: int\n",
    "                                            ) -> np.ndarray:\n",
    "    \"\"\"\n",
    "    Generalised formula for calculating both Manhattan and Euclidean distances. Calculates pairwise distances between every point in two n-dimensional arrays.\n",
    "    array1: first set of points;\n",
    "    array2: second set of points;\n",
    "    p: power parameter which determines the distance metric used, with 1 = Manhattan and 2 = Euclidean.\n",
    "    \"\"\"\n",
    "\n",
    "    diffs = array1[:, None, :] - array2[None, :, :]\n",
    "    abs_diffs = np.power(np.abs(diffs), p)\n",
    "    return abs_diffs.sum(axis=-1) ** (1 / p)"
   ]
  },
  {
   "cell_type": "markdown",
   "metadata": {
    "pycharm": {
     "name": "#%% md\n"
    }
   },
   "source": [
    "Let's test it out."
   ]
  },
  {
   "cell_type": "code",
   "execution_count": 14,
   "metadata": {
    "pycharm": {
     "name": "#%%\n"
    }
   },
   "outputs": [
    {
     "name": "stdout",
     "output_type": "stream",
     "text": [
      "CPU times: user 1.48 ms, sys: 947 µs, total: 2.42 ms\n",
      "Wall time: 1.2 ms\n"
     ]
    }
   ],
   "source": [
    "%time vect_min_1 = calculate_minkowski_distance_vectorised(array_sample_1, array_sample_1, 2)"
   ]
  },
  {
   "cell_type": "code",
   "execution_count": 13,
   "metadata": {
    "pycharm": {
     "name": "#%%\n"
    }
   },
   "outputs": [
    {
     "name": "stdout",
     "output_type": "stream",
     "text": [
      "CPU times: user 13.3 s, sys: 3.23 s, total: 16.5 s\n",
      "Wall time: 16.6 s\n"
     ]
    }
   ],
   "source": [
    "%time vect_min_2 = calculate_minkowski_distance_vectorised(array_sample_2, array_sample_2, 2)"
   ]
  },
  {
   "cell_type": "code",
   "execution_count": 12,
   "metadata": {
    "pycharm": {
     "name": "#%%\n"
    }
   },
   "outputs": [
    {
     "name": "stdout",
     "output_type": "stream",
     "text": [
      "CPU times: user 1min 30s, sys: 1min 48s, total: 3min 18s\n",
      "Wall time: 5min 38s\n"
     ]
    }
   ],
   "source": [
    "%time vect_min_3 = calculate_minkowski_distance_vectorised(array_sample_3, array_sample_3, 2)"
   ]
  },
  {
   "cell_type": "markdown",
   "source": [
    "We've now been able to lower our calculation time for 3 features and ~10,000 observations to less than 20 seconds, which is an incredible improvement over the 13 minutes we saw when using the nested forloops. However, with 16 features our performance is still a bit slow. Fortunately, we still have a couple more tricks we can use, which we'll cover in the next blog post."
   ],
   "metadata": {
    "collapsed": false,
    "pycharm": {
     "name": "#%% md\n"
    }
   }
  }
 ],
 "metadata": {
  "kernelspec": {
   "display_name": "Python 3 (ipykernel)",
   "language": "python",
   "name": "python3"
  },
  "language_info": {
   "codemirror_mode": {
    "name": "ipython",
    "version": 3
   },
   "file_extension": ".py",
   "mimetype": "text/x-python",
   "name": "python",
   "nbconvert_exporter": "python",
   "pygments_lexer": "ipython3",
   "version": "3.9.12"
  }
 },
 "nbformat": 4,
 "nbformat_minor": 1
}