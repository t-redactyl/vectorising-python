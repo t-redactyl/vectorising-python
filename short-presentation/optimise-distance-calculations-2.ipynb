{
 "cells": [
  {
   "cell_type": "code",
   "execution_count": 2,
   "outputs": [],
   "source": [
    "import numpy as np\n",
    "import pandas as pd\n",
    "\n",
    "from operator import itemgetter\n",
    "\n",
    "from sklearn.model_selection import train_test_split\n",
    "from sklearn.preprocessing import StandardScaler"
   ],
   "metadata": {
    "collapsed": false,
    "pycharm": {
     "name": "#%%\n"
    }
   }
  },
  {
   "cell_type": "markdown",
   "source": [
    "## Function for calculating and applying the Manhattan distance\n",
    "Using broadcast vector subtraction to calculate differences between two 2D arrays."
   ],
   "metadata": {
    "collapsed": false,
    "pycharm": {
     "name": "#%% md\n"
    }
   }
  },
  {
   "cell_type": "code",
   "execution_count": 3,
   "outputs": [],
   "source": [
    "def calculate_manhattan_distance_vectorised(train_observations: np.ndarray,\n",
    "                                            test_observations: np.ndarray,\n",
    "                                            ) -> np.ndarray:\n",
    "    \"\"\"\n",
    "    Generalised formula for calculating both Manhattan and Euclidean distances. Calculates pairwise distances between every point in two n-dimensional arrays.\n",
    "    array1: first set of points;\n",
    "    array2: second set of points;\n",
    "    p: power parameter which determines the distance metric used, with 1 = Manhattan and 2 = Euclidean.\n",
    "    \"\"\"\n",
    "\n",
    "    diffs = train_observations[None, :, :] - test_observations[:, None, :]\n",
    "    abs_diffs = np.abs(diffs)\n",
    "    return abs_diffs.sum(axis=-1)"
   ],
   "metadata": {
    "collapsed": false,
    "pycharm": {
     "name": "#%%\n"
    }
   }
  },
  {
   "cell_type": "markdown",
   "source": [
    "## Function for calculating each test observation's label"
   ],
   "metadata": {
    "collapsed": false,
    "pycharm": {
     "name": "#%% md\n"
    }
   }
  },
  {
   "cell_type": "code",
   "execution_count": 4,
   "outputs": [],
   "source": [
    "def calculate_nearest_neighbour(distances: list, labels: list, k: int) -> str:\n",
    "    \"\"\"Calculates the k-nearest neighbours for a test point, using k selected neighbours.\"\"\"\n",
    "\n",
    "    # Zip together the training labels and distances to a test point and sort by distance.\n",
    "    sorted_distances = sorted(zip(distances, labels), key=itemgetter(0))[1:]\n",
    "\n",
    "    # Keep only the top k labels\n",
    "    top_n_labels = [label for dist, label in sorted_distances][:k]\n",
    "\n",
    "    # Return the most common label\n",
    "    return max(set(top_n_labels), key=top_n_labels.count)"
   ],
   "metadata": {
    "collapsed": false,
    "pycharm": {
     "name": "#%%\n"
    }
   }
  },
  {
   "cell_type": "markdown",
   "source": [
    "## Function for applying kNN to full test set"
   ],
   "metadata": {
    "collapsed": false,
    "pycharm": {
     "name": "#%% md\n"
    }
   }
  },
  {
   "cell_type": "code",
   "execution_count": 5,
   "outputs": [],
   "source": [
    "def calculate_knn(X_train: list,\n",
    "                  X_test: list,\n",
    "                  y_train: list,\n",
    "                  k: int) -> list:\n",
    "    \"\"\"Calculates the k-nearest neighbours for all points in a test set.\"\"\"\n",
    "\n",
    "    # Calculate the pairwise distances between all train and test points\n",
    "    train_test_distances = calculate_manhattan_distance_vectorised(X_train, X_test)\n",
    "\n",
    "    # Calculate the most common labels for each test point\n",
    "    predicted_labels = []\n",
    "    for distance_list in train_test_distances:\n",
    "        predicted_labels += [calculate_nearest_neighbour(distance_list, y_train, k=k)]\n",
    "\n",
    "    return predicted_labels"
   ],
   "metadata": {
    "collapsed": false,
    "pycharm": {
     "name": "#%%\n"
    }
   }
  },
  {
   "cell_type": "markdown",
   "source": [
    "## Reading in beans dataset"
   ],
   "metadata": {
    "collapsed": false,
    "pycharm": {
     "name": "#%% md\n"
    }
   }
  },
  {
   "cell_type": "code",
   "execution_count": 16,
   "outputs": [],
   "source": [
    "beans = pd.read_excel(\"../data/Dry_Bean_Dataset.xlsx\")\n",
    "bscaler = StandardScaler()"
   ],
   "metadata": {
    "collapsed": false,
    "pycharm": {
     "name": "#%%\n"
    }
   }
  },
  {
   "cell_type": "markdown",
   "source": [
    "## Convenience function for calculating different samples from the beans data"
   ],
   "metadata": {
    "collapsed": false,
    "pycharm": {
     "name": "#%% md\n"
    }
   }
  },
  {
   "cell_type": "code",
   "execution_count": 9,
   "outputs": [],
   "source": [
    "def calculate_samples(cols: list, rows: int, scaler: StandardScaler) -> tuple:\n",
    "    # Prepare random sample with selected columns and row count\n",
    "    sample_df = beans[cols].sample(n=rows, random_state=456)\n",
    "    X = sample_df.drop(columns=[\"Class\"])\n",
    "    y = sample_df[\"Class\"]\n",
    "\n",
    "    # Create test and train sets\n",
    "    X_train, X_test, y_train, y_test = train_test_split(X, y, test_size=0.25, random_state=456)\n",
    "\n",
    "    # Scale features\n",
    "    X_train = scaler.fit_transform(X_train)\n",
    "    X_test = scaler.transform(X_test)\n",
    "\n",
    "    return X_train, X_test, y_train, y_test"
   ],
   "metadata": {
    "collapsed": false,
    "pycharm": {
     "name": "#%%\n"
    }
   }
  },
  {
   "cell_type": "markdown",
   "source": [
    "## Applying function to small dataset and timing results"
   ],
   "metadata": {
    "collapsed": false,
    "pycharm": {
     "name": "#%% md\n"
    }
   }
  },
  {
   "cell_type": "code",
   "execution_count": 22,
   "outputs": [],
   "source": [
    "X_train_small, X_test_small, y_train_small, y_test_small = calculate_samples(\n",
    "    [\"MajorAxisLength\", \"MinorAxisLength\", \"roundness\", \"Class\"], 4000, bscaler)"
   ],
   "metadata": {
    "collapsed": false,
    "pycharm": {
     "name": "#%%\n"
    }
   }
  },
  {
   "cell_type": "code",
   "execution_count": 23,
   "outputs": [
    {
     "name": "stdout",
     "output_type": "stream",
     "text": [
      "CPU times: user 1.27 s, sys: 44.4 ms, total: 1.32 s\n",
      "Wall time: 1.32 s\n"
     ]
    }
   ],
   "source": [
    "%%time\n",
    "y_pred_small = calculate_knn(X_train_small,\n",
    "                             X_test_small,\n",
    "                             y_train_small.to_list(),\n",
    "                             k=3)"
   ],
   "metadata": {
    "collapsed": false,
    "pycharm": {
     "name": "#%%\n"
    }
   }
  },
  {
   "cell_type": "markdown",
   "source": [
    "## Applying function to medium dataset and timing results"
   ],
   "metadata": {
    "collapsed": false,
    "pycharm": {
     "name": "#%% md\n"
    }
   }
  },
  {
   "cell_type": "code",
   "execution_count": 20,
   "outputs": [],
   "source": [
    "X_train_med, X_test_med, y_train_med, y_test_med = calculate_samples(\n",
    "    [\"MajorAxisLength\", \"MinorAxisLength\", \"roundness\", \"Class\"], len(beans), bscaler)"
   ],
   "metadata": {
    "collapsed": false,
    "pycharm": {
     "name": "#%%\n"
    }
   }
  },
  {
   "cell_type": "code",
   "execution_count": 21,
   "outputs": [
    {
     "name": "stdout",
     "output_type": "stream",
     "text": [
      "CPU times: user 1min 2s, sys: 1.83 s, total: 1min 4s\n",
      "Wall time: 1min 4s\n"
     ]
    }
   ],
   "source": [
    "%%time\n",
    "y_pred_med = calculate_knn(X_train_med,\n",
    "                           X_test_med,\n",
    "                           y_train_med.to_list(),\n",
    "                           k=3)"
   ],
   "metadata": {
    "collapsed": false,
    "pycharm": {
     "name": "#%%\n"
    }
   }
  },
  {
   "cell_type": "markdown",
   "source": [
    "## Applying function to large dataset and timing results"
   ],
   "metadata": {
    "collapsed": false,
    "pycharm": {
     "name": "#%% md\n"
    }
   }
  },
  {
   "cell_type": "code",
   "execution_count": 18,
   "outputs": [],
   "source": [
    "X_train_large, X_test_large, y_train_large, y_test_large = calculate_samples(\n",
    "    beans.columns.to_list(), len(beans), bscaler)"
   ],
   "metadata": {
    "collapsed": false,
    "pycharm": {
     "name": "#%%\n"
    }
   }
  },
  {
   "cell_type": "code",
   "execution_count": 19,
   "outputs": [
    {
     "name": "stdout",
     "output_type": "stream",
     "text": [
      "CPU times: user 1min 16s, sys: 51.2 s, total: 2min 7s\n",
      "Wall time: 3min 1s\n"
     ]
    }
   ],
   "source": [
    "%%time\n",
    "y_pred_large = calculate_knn(X_train_large,\n",
    "                             X_test_large,\n",
    "                             y_train_large.to_list(),\n",
    "                             k=3)"
   ],
   "metadata": {
    "collapsed": false,
    "pycharm": {
     "name": "#%%\n"
    }
   }
  },
  {
   "cell_type": "code",
   "execution_count": null,
   "outputs": [],
   "source": [],
   "metadata": {
    "collapsed": false,
    "pycharm": {
     "name": "#%%\n"
    }
   }
  }
 ],
 "metadata": {
  "kernelspec": {
   "display_name": "Python 3",
   "language": "python",
   "name": "python3"
  },
  "language_info": {
   "codemirror_mode": {
    "name": "ipython",
    "version": 2
   },
   "file_extension": ".py",
   "mimetype": "text/x-python",
   "name": "python",
   "nbconvert_exporter": "python",
   "pygments_lexer": "ipython2",
   "version": "2.7.6"
  }
 },
 "nbformat": 4,
 "nbformat_minor": 0
}