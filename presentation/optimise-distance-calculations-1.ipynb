{
 "cells": [
  {
   "cell_type": "code",
   "execution_count": 12,
   "outputs": [],
   "source": [
    "import numpy as np\n",
    "import pandas as pd\n",
    "\n",
    "from operator import itemgetter\n",
    "\n",
    "from sklearn.model_selection import train_test_split\n",
    "from sklearn.preprocessing import StandardScaler\n",
    "from sklearn.metrics import accuracy_score"
   ],
   "metadata": {
    "collapsed": false,
    "pycharm": {
     "name": "#%%\n"
    }
   }
  },
  {
   "cell_type": "code",
   "execution_count": 13,
   "outputs": [],
   "source": [
    "def calculate_minkowski_distance(X: np.array,\n",
    "                                 Y: np.array,\n",
    "                                 p: int\n",
    "                                 ) -> float:\n",
    "    \"\"\"Calculates the Minkowski distance between two vectors, X and Y. When p = 1, calculates the Manhattan distance, when p = 2, calculates the Euclidean distance.\"\"\"\n",
    "\n",
    "    # Calculate a vector subtraction between two vectors, takes the absolute value of each element in this difference vector, then raises each element to the power of p\n",
    "    diffs = np.power(np.abs(X - Y), p)\n",
    "\n",
    "    # Sums all elements in the vector\n",
    "    euclidean_distance_sq = sum(diffs)\n",
    "\n",
    "    # Returns this sum raised to the power of (1/p)\n",
    "    return euclidean_distance_sq ** (1 / p)"
   ],
   "metadata": {
    "collapsed": false,
    "pycharm": {
     "name": "#%%\n"
    }
   }
  },
  {
   "cell_type": "code",
   "execution_count": 14,
   "outputs": [],
   "source": [
    "def apply_minkowski_distance(vectors_1: list, vectors_2: list, p: int) -> list:\n",
    "    \"\"\"Calculates the pairwise difference between two lists of vectors.\"\"\"\n",
    "\n",
    "    # Create empty list to store distances\n",
    "    distances = []\n",
    "\n",
    "    # Nested loop to get the difference between every element of list one and list two\n",
    "    for a in vectors_1:\n",
    "        tmp_distances = []\n",
    "        for b in vectors_2:\n",
    "            tmp_distances.append(calculate_minkowski_distance(a, b, p))\n",
    "        distances.append(tmp_distances)\n",
    "\n",
    "    # Reshape the list so every element represents the differences between a test point and all train points\n",
    "    return [list(x) for x in zip(*distances)]"
   ],
   "metadata": {
    "collapsed": false,
    "pycharm": {
     "name": "#%%\n"
    }
   }
  },
  {
   "cell_type": "code",
   "execution_count": 15,
   "outputs": [],
   "source": [
    "def calculate_nearest_neighbour(distances: list, labels: list, k: int) -> str:\n",
    "    \"\"\"Calculates the k-nearest neighbours for a test point, using k selected neighbours.\"\"\"\n",
    "\n",
    "    # Zip together the training labels and distances to a test point and sort by distance.\n",
    "    sorted_distances = sorted(zip(distances, labels), key=itemgetter(0))[1:]\n",
    "\n",
    "    # Keep only the top k labels\n",
    "    top_n_labels = [label for dist, label in sorted_distances][:k]\n",
    "\n",
    "    # Return the most common label\n",
    "    return max(set(top_n_labels), key=top_n_labels.count)"
   ],
   "metadata": {
    "collapsed": false,
    "pycharm": {
     "name": "#%%\n"
    }
   }
  },
  {
   "cell_type": "code",
   "execution_count": 16,
   "outputs": [],
   "source": [
    "def calculate_knn(X_train: list,\n",
    "                  X_test: list,\n",
    "                  y_train: list,\n",
    "                  p: int,\n",
    "                  k: int) -> list:\n",
    "    \"\"\"Calculates the k-nearest neighbours for all points in a test set.\"\"\"\n",
    "\n",
    "    # Calculate the pairwise distances between all train and test points\n",
    "    train_test_distances = apply_minkowski_distance(X_train, X_test, p=p)\n",
    "\n",
    "    # Calculate the most common labels for each test point\n",
    "    predicted_labels = []\n",
    "    for distance_list in train_test_distances:\n",
    "        predicted_labels += [calculate_nearest_neighbour(distance_list, y_train, k=k)]\n",
    "\n",
    "    return predicted_labels"
   ],
   "metadata": {
    "collapsed": false,
    "pycharm": {
     "name": "#%%\n"
    }
   }
  },
  {
   "cell_type": "code",
   "execution_count": 17,
   "outputs": [],
   "source": [
    "beans = pd.read_excel(\"../data/Dry_Bean_Dataset.xlsx\")\n",
    "bscaler = StandardScaler()"
   ],
   "metadata": {
    "collapsed": false,
    "pycharm": {
     "name": "#%%\n"
    }
   }
  },
  {
   "cell_type": "code",
   "execution_count": 18,
   "outputs": [],
   "source": [
    "def calculate_samples(cols: list, rows: int, scaler: StandardScaler) -> tuple:\n",
    "    # Prepare random sample with selected columns and row count\n",
    "    sample_df = beans[cols].sample(n=rows, random_state=456)\n",
    "    X = sample_df.drop(columns=[\"Class\"])\n",
    "    y = sample_df[\"Class\"]\n",
    "\n",
    "    # Create test and train sets\n",
    "    X_train, X_test, y_train, y_test = train_test_split(X, y, test_size=0.25, random_state=456)\n",
    "\n",
    "    # Scale features\n",
    "    X_train = scaler.fit_transform(X_train)\n",
    "    X_test = scaler.transform(X_test)\n",
    "\n",
    "    return X_train, X_test, y_train, y_test"
   ],
   "metadata": {
    "collapsed": false,
    "pycharm": {
     "name": "#%%\n"
    }
   }
  },
  {
   "cell_type": "code",
   "execution_count": 19,
   "outputs": [],
   "source": [
    "X_train_small, X_test_small, y_train_small, y_test_small = calculate_samples(\n",
    "    [\"MajorAxisLength\", \"MinorAxisLength\", \"roundness\", \"Class\"], 400, bscaler)"
   ],
   "metadata": {
    "collapsed": false,
    "pycharm": {
     "name": "#%%\n"
    }
   }
  },
  {
   "cell_type": "code",
   "execution_count": 20,
   "outputs": [
    {
     "name": "stdout",
     "output_type": "stream",
     "text": [
      "CPU times: user 171 ms, sys: 3.9 ms, total: 175 ms\n",
      "Wall time: 174 ms\n"
     ]
    }
   ],
   "source": [
    "%%time\n",
    "y_pred_small = calculate_knn(X_train_small,\n",
    "                             X_test_small,\n",
    "                             y_train_small.to_list(),\n",
    "                             p=2,\n",
    "                             k=3)"
   ],
   "metadata": {
    "collapsed": false,
    "pycharm": {
     "name": "#%%\n"
    }
   }
  },
  {
   "cell_type": "code",
   "execution_count": 21,
   "outputs": [
    {
     "name": "stdout",
     "output_type": "stream",
     "text": [
      "0.91\n"
     ]
    }
   ],
   "source": [
    "print(accuracy_score(y_test_small, y_pred_small))"
   ],
   "metadata": {
    "collapsed": false,
    "pycharm": {
     "name": "#%%\n"
    }
   }
  },
  {
   "cell_type": "code",
   "execution_count": 22,
   "outputs": [],
   "source": [
    "X_train_med, X_test_med, y_train_med, y_test_med = calculate_samples(\n",
    "    [\"MajorAxisLength\", \"MinorAxisLength\", \"roundness\", \"Class\"], len(beans), bscaler)"
   ],
   "metadata": {
    "collapsed": false,
    "pycharm": {
     "name": "#%%\n"
    }
   }
  },
  {
   "cell_type": "code",
   "execution_count": 23,
   "outputs": [
    {
     "name": "stdout",
     "output_type": "stream",
     "text": [
      "CPU times: user 3min, sys: 1.64 s, total: 3min 1s\n",
      "Wall time: 3min 2s\n"
     ]
    }
   ],
   "source": [
    "%%time\n",
    "y_pred_med = calculate_knn(X_train_med,\n",
    "                           X_test_med,\n",
    "                           y_train_med.to_list(),\n",
    "                           p=2,\n",
    "                           k=3)"
   ],
   "metadata": {
    "collapsed": false,
    "pycharm": {
     "name": "#%%\n"
    }
   }
  },
  {
   "cell_type": "code",
   "execution_count": 24,
   "outputs": [
    {
     "name": "stdout",
     "output_type": "stream",
     "text": [
      "0.8995004407875404\n"
     ]
    }
   ],
   "source": [
    "print(accuracy_score(y_test_med, y_pred_med))"
   ],
   "metadata": {
    "collapsed": false,
    "pycharm": {
     "name": "#%%\n"
    }
   }
  },
  {
   "cell_type": "code",
   "execution_count": 25,
   "outputs": [],
   "source": [
    "X_train_large, X_test_large, y_train_large, y_test_large = calculate_samples(\n",
    "    beans.columns.to_list(), len(beans), bscaler)"
   ],
   "metadata": {
    "collapsed": false,
    "pycharm": {
     "name": "#%%\n"
    }
   }
  },
  {
   "cell_type": "code",
   "execution_count": 26,
   "outputs": [
    {
     "name": "stdout",
     "output_type": "stream",
     "text": [
      "CPU times: user 3min 55s, sys: 1.91 s, total: 3min 56s\n",
      "Wall time: 3min 57s\n"
     ]
    }
   ],
   "source": [
    "%%time\n",
    "y_pred_large = calculate_knn(X_train_large,\n",
    "                             X_test_large,\n",
    "                             y_train_large.to_list(),\n",
    "                             p=2,\n",
    "                             k=3)"
   ],
   "metadata": {
    "collapsed": false,
    "pycharm": {
     "name": "#%%\n"
    }
   }
  },
  {
   "cell_type": "code",
   "execution_count": null,
   "outputs": [],
   "source": [
    "print(accuracy_score(y_test_large, y_pred_large))"
   ],
   "metadata": {
    "collapsed": false,
    "pycharm": {
     "name": "#%%\n"
    }
   }
  }
 ],
 "metadata": {
  "kernelspec": {
   "display_name": "Python 3",
   "language": "python",
   "name": "python3"
  },
  "language_info": {
   "codemirror_mode": {
    "name": "ipython",
    "version": 2
   },
   "file_extension": ".py",
   "mimetype": "text/x-python",
   "name": "python",
   "nbconvert_exporter": "python",
   "pygments_lexer": "ipython2",
   "version": "2.7.6"
  }
 },
 "nbformat": 4,
 "nbformat_minor": 0
}