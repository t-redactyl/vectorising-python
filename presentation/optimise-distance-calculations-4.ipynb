{
 "cells": [
  {
   "cell_type": "code",
   "execution_count": 51,
   "outputs": [],
   "source": [
    "import numpy as np\n",
    "import pandas as pd\n",
    "\n",
    "from operator import itemgetter\n",
    "\n",
    "from sklearn.model_selection import train_test_split\n",
    "from sklearn.preprocessing import StandardScaler\n",
    "from sklearn.metrics import accuracy_score"
   ],
   "metadata": {
    "collapsed": false,
    "pycharm": {
     "name": "#%%\n"
    }
   }
  },
  {
   "cell_type": "code",
   "execution_count": 52,
   "outputs": [],
   "source": [
    "def calculate_manhattan_distance(array1: np.ndarray,\n",
    "                                 array2: np.ndarray\n",
    "                                 ) -> np.ndarray:\n",
    "    \"\"\"\n",
    "    Generalised formula for calculating both Manhattan and Euclidean distances. Calculates pairwise distances between every point in two n-dimensional arrays.\n",
    "    array1: first set of points;\n",
    "    array2: second set of points;\n",
    "    p: power parameter which determines the distance metric used, with 1 = Manhattan and 2 = Euclidean.\n",
    "    \"\"\"\n",
    "\n",
    "    diffs = array1[:, None, :] - array2[None, :, :]\n",
    "    abs_diffs = np.abs(diffs)\n",
    "    return abs_diffs.sum(axis=-1)"
   ],
   "metadata": {
    "collapsed": false,
    "pycharm": {
     "name": "#%%\n"
    }
   }
  },
  {
   "cell_type": "code",
   "execution_count": 53,
   "outputs": [],
   "source": [
    "def calculate_euclidean_distance(array1: np.ndarray,\n",
    "                                 array2: np.ndarray\n",
    "                                 ) -> np.ndarray:\n",
    "    \"\"\"\n",
    "    Generalised formula for calculating both Manhattan and Euclidean distances. Calculates pairwise distances between every point in two n-dimensional arrays.\n",
    "    array1: first set of points;\n",
    "    array2: second set of points;\n",
    "    p: power parameter which determines the distance metric used, with 1 = Manhattan and 2 = Euclidean.\n",
    "    \"\"\"\n",
    "\n",
    "    diffs = array1[None, :, :] - array2[:, None, :]\n",
    "    abs_diffs = np.power(diffs, 2)\n",
    "    return abs_diffs.sum(axis=-1) ** (1 / 2)"
   ],
   "metadata": {
    "collapsed": false,
    "pycharm": {
     "name": "#%%\n"
    }
   }
  },
  {
   "cell_type": "code",
   "execution_count": 54,
   "outputs": [],
   "source": [
    "def calculate_nearest_neighbour(distances: np.ndarray,\n",
    "                                 labels: np.ndarray,\n",
    "                                 k: int\n",
    "                                 ) -> int:\n",
    "\n",
    "        \"\"\"\n",
    "        For any observation, takes its distances between a range of other observations and their class labels and calculates the likely class of that point using the labels of the top K neighbours.\n",
    "        distances: an array containing distances between the observation and a range of other observations;\n",
    "        labels: the class labels for the range of other observations;\n",
    "        k: the desired number of neighbours to use to calculate the predicted label.\n",
    "        \"\"\"\n",
    "\n",
    "        # Create a 2D array with the pairwise distance between each point and the observation label\n",
    "        distances_labelled = np.vstack((distances, labels)).T\n",
    "\n",
    "        # Sort ascending by distance and keep only the k smallest observations\n",
    "        k_top_labels = distances_labelled[distances_labelled[:, 0].argsort()][0:k][:, 1]\n",
    "\n",
    "        # Get the frequencies of each label and convert to a 2D array\n",
    "        labels, counts = np.unique(k_top_labels, return_counts = True)\n",
    "        label_freqs = np.asarray((labels, counts)).T\n",
    "\n",
    "        # Sort the frequencies table descending by frequency count and keep the label of the most frequent observation\n",
    "        return label_freqs[label_freqs[:, 1].argsort()[::-1]][0, 0]"
   ],
   "metadata": {
    "collapsed": false,
    "pycharm": {
     "name": "#%%\n"
    }
   }
  },
  {
   "cell_type": "code",
   "execution_count": 56,
   "outputs": [],
   "source": [
    "def calculate_knn(X_train: np.ndarray,\n",
    "                  X_test: np.ndarray,\n",
    "                  y_train: np.ndarray,\n",
    "                  distance_metric: str,\n",
    "                  k: int\n",
    "                  ) -> np.ndarray:\n",
    "\n",
    "    \"\"\"\n",
    "    Implementation of the kNN algorithm. Generates a list of class label predictions for a given set of test points, based on a selected distance metric and number of neighbours.\n",
    "    X: the training features;\n",
    "    y: the training labels;\n",
    "    X_: the test features;\n",
    "    p: power parameter for the Minkowski distance, which determines the distance metric used, with 1 = Manhattan and 2 = Euclidean.\n",
    "    k: the number of neighbours to use.\n",
    "    \"\"\"\n",
    "    # Generate a matrix of distances between each test observation and all train observations\n",
    "    if distance_metric == \"manhattan\":\n",
    "        train_test_distances = calculate_manhattan_distance(X_train, X_test)\n",
    "    else:\n",
    "        train_test_distances = calculate_euclidean_distance(X_train, X_test)\n",
    "\n",
    "    # For each test observation, generate the majority class of its k nearest neighbours from\n",
    "    # the training set\n",
    "    return np.apply_along_axis(lambda x: calculate_nearest_neighbour(distances = x, labels = y_train, k = k),\n",
    "                               1,\n",
    "                               train_test_distances)"
   ],
   "metadata": {
    "collapsed": false,
    "pycharm": {
     "name": "#%%\n"
    }
   }
  },
  {
   "cell_type": "code",
   "execution_count": 57,
   "outputs": [],
   "source": [
    "beans = pd.read_excel(\"../data/Dry_Bean_Dataset.xlsx\")\n",
    "bscaler = StandardScaler()"
   ],
   "metadata": {
    "collapsed": false,
    "pycharm": {
     "name": "#%%\n"
    }
   }
  },
  {
   "cell_type": "code",
   "execution_count": 58,
   "outputs": [],
   "source": [
    "def calculate_samples(cols: list, rows: int, scaler: StandardScaler) -> tuple:\n",
    "    # Prepare random sample with selected columns and row count\n",
    "    sample_df = beans[cols].sample(n=rows, random_state=456)\n",
    "    X = sample_df.drop(columns=[\"Class\"])\n",
    "    y = sample_df[\"Class\"].astype(\"category\").cat.codes.to_numpy()\n",
    "\n",
    "    # Create test and train sets\n",
    "    X_train, X_test, y_train, y_test = train_test_split(X, y, test_size=0.25, random_state=456)\n",
    "\n",
    "    # Scale features\n",
    "    X_train = scaler.fit_transform(X_train)\n",
    "    X_test = scaler.transform(X_test)\n",
    "\n",
    "    return X_train, X_test, y_train, y_test"
   ],
   "metadata": {
    "collapsed": false,
    "pycharm": {
     "name": "#%%\n"
    }
   }
  },
  {
   "cell_type": "code",
   "execution_count": 59,
   "outputs": [],
   "source": [
    "X_train_small, X_test_small, y_train_small, y_test_small = calculate_samples(\n",
    "    [\"MajorAxisLength\", \"MinorAxisLength\", \"roundness\", \"Class\"], 400, bscaler)"
   ],
   "metadata": {
    "collapsed": false,
    "pycharm": {
     "name": "#%%\n"
    }
   }
  },
  {
   "cell_type": "code",
   "execution_count": 61,
   "outputs": [
    {
     "name": "stdout",
     "output_type": "stream",
     "text": [
      "CPU times: user 11.8 ms, sys: 1.2 ms, total: 13 ms\n",
      "Wall time: 11.5 ms\n"
     ]
    }
   ],
   "source": [
    "%%time\n",
    "y_pred_small = calculate_knn(X_train_small,\n",
    "                             X_test_small,\n",
    "                             y_train_small,\n",
    "                             \"euclidean\",\n",
    "                             k=3)"
   ],
   "metadata": {
    "collapsed": false,
    "pycharm": {
     "name": "#%%\n"
    }
   }
  },
  {
   "cell_type": "code",
   "execution_count": 62,
   "outputs": [
    {
     "name": "stdout",
     "output_type": "stream",
     "text": [
      "0.93\n"
     ]
    }
   ],
   "source": [
    "print(accuracy_score(y_test_small, y_pred_small))"
   ],
   "metadata": {
    "collapsed": false,
    "pycharm": {
     "name": "#%%\n"
    }
   }
  },
  {
   "cell_type": "code",
   "execution_count": 63,
   "outputs": [],
   "source": [
    "X_train_med, X_test_med, y_train_med, y_test_med = calculate_samples(\n",
    "    [\"MajorAxisLength\", \"MinorAxisLength\", \"roundness\", \"Class\"], len(beans), bscaler)"
   ],
   "metadata": {
    "collapsed": false,
    "pycharm": {
     "name": "#%%\n"
    }
   }
  },
  {
   "cell_type": "code",
   "execution_count": 65,
   "outputs": [
    {
     "name": "stdout",
     "output_type": "stream",
     "text": [
      "CPU times: user 6.22 s, sys: 845 ms, total: 7.07 s\n",
      "Wall time: 7.07 s\n"
     ]
    }
   ],
   "source": [
    "%%time\n",
    "y_pred_med = calculate_knn(X_train_med,\n",
    "                           X_test_med,\n",
    "                           y_train_med,\n",
    "                           \"euclidean\",\n",
    "                           k=3)"
   ],
   "metadata": {
    "collapsed": false,
    "pycharm": {
     "name": "#%%\n"
    }
   }
  },
  {
   "cell_type": "code",
   "execution_count": 66,
   "outputs": [
    {
     "name": "stdout",
     "output_type": "stream",
     "text": [
      "0.9006758742286218\n"
     ]
    }
   ],
   "source": [
    "print(accuracy_score(y_test_med, y_pred_med))"
   ],
   "metadata": {
    "collapsed": false,
    "pycharm": {
     "name": "#%%\n"
    }
   }
  },
  {
   "cell_type": "code",
   "execution_count": 67,
   "outputs": [],
   "source": [
    "X_train_large, X_test_large, y_train_large, y_test_large = calculate_samples(\n",
    "    beans.columns.to_list(), len(beans), bscaler)"
   ],
   "metadata": {
    "collapsed": false,
    "pycharm": {
     "name": "#%%\n"
    }
   }
  },
  {
   "cell_type": "code",
   "execution_count": 68,
   "outputs": [
    {
     "name": "stdout",
     "output_type": "stream",
     "text": [
      "CPU times: user 16.6 s, sys: 3.06 s, total: 19.7 s\n",
      "Wall time: 19.8 s\n"
     ]
    }
   ],
   "source": [
    "%%time\n",
    "y_pred_large = calculate_knn(X_train_large,\n",
    "                             X_test_large,\n",
    "                             y_train_large,\n",
    "                             \"euclidean\",\n",
    "                             k=3)"
   ],
   "metadata": {
    "collapsed": false,
    "pycharm": {
     "name": "#%%\n"
    }
   }
  },
  {
   "cell_type": "code",
   "execution_count": 70,
   "outputs": [
    {
     "name": "stdout",
     "output_type": "stream",
     "text": [
      "0.9200705260064649\n"
     ]
    }
   ],
   "source": [
    "print(accuracy_score(y_test_large, y_pred_large))"
   ],
   "metadata": {
    "collapsed": false,
    "pycharm": {
     "name": "#%%\n"
    }
   }
  },
  {
   "cell_type": "code",
   "execution_count": null,
   "outputs": [],
   "source": [],
   "metadata": {
    "collapsed": false,
    "pycharm": {
     "name": "#%%\n"
    }
   }
  }
 ],
 "metadata": {
  "kernelspec": {
   "display_name": "Python 3",
   "language": "python",
   "name": "python3"
  },
  "language_info": {
   "codemirror_mode": {
    "name": "ipython",
    "version": 2
   },
   "file_extension": ".py",
   "mimetype": "text/x-python",
   "name": "python",
   "nbconvert_exporter": "python",
   "pygments_lexer": "ipython2",
   "version": "2.7.6"
  }
 },
 "nbformat": 4,
 "nbformat_minor": 0
}